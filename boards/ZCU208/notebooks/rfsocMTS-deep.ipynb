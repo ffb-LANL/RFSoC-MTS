{
 "cells": [
  {
   "cell_type": "markdown",
   "id": "e1d71f80-5168-4681-a4ca-d71b4b315dfe",
   "metadata": {
    "tags": []
   },
   "source": [
    "# RFSoC-PYNQ Multi-Tile Sync Acquisition Design\n",
    "---"
   ]
  },
  {
   "cell_type": "markdown",
   "id": "8b33d086-5d4a-430e-9361-1fc7a4647c1d",
   "metadata": {},
   "source": [
    "This overlay requires the ZCU208, CLK104 and XM655 boards configured as described in the [\"Common Board Setup\"](./CommonBoardWiring.ipynb) page.  Please ensure your setup matches that configuration before proceeding.\n",
    "<p align=\"center\">\n",
    "  <img src=\"./images/directConnections_DCblocks.JPG\" width=\"60%\" />\n",
    "</p>\n",
    "This overlay provides one DAC player memory that is broadcast to multiple RF DAC tiles. DACs in use are Tiles 228 and 229. Tile 230, while enabled, only shares the reference 4GHz to Tiles 228 and 229.  ADC tiles 224 and 225 capture to internal memories.  ADC tile 225 channel 1 stores to the PL DRAM via DMA.  A simplified block diagram is presented below.\n",
    "<p align=\"center\">\n",
    "  <img src=\"./images/daqOverlay_simplifiedBlockDiagram.png\" width=\"65%\" />\n",
    "</p>\n",
    "<div class=\"alert alert-block alert-danger\">Because of the clocking strategy used in this overlay it is best run after first power-cycling your board.</div>"
   ]
  },
  {
   "cell_type": "code",
   "execution_count": null,
   "id": "a44f63a8-94b2-449f-b3b5-07613adf0608",
   "metadata": {
    "tags": []
   },
   "outputs": [],
   "source": [
    "from rfsoc_mts import mtsOverlay\n",
    "import numpy as np\n",
    "import matplotlib.pyplot as plt"
   ]
  },
  {
   "cell_type": "code",
   "execution_count": null,
   "id": "fa3b73dd-c42c-405c-9ded-6a27c7605684",
   "metadata": {},
   "outputs": [],
   "source": [
    "ol = mtsOverlay('mts.bit')"
   ]
  },
  {
   "cell_type": "markdown",
   "id": "ee0ce9c1-2ce9-4dc9-ae79-c2f3afba7028",
   "metadata": {
    "tags": []
   },
   "source": [
    "# Generate Waveforms for Loopback\n",
    " This overlay uses a single waveform memory that is broadcast to multiple DAC tiles.\n",
    "### Prepare the DAC Memory\n",
    "The cell below generates examples waveforms and has customizable paramters.  For example, one can adjust the center frequency, Fc, and re-generate a sinewave."
   ]
  },
  {
   "cell_type": "code",
   "execution_count": null,
   "id": "3137871a-3b6c-4ec2-88ed-27f872439b04",
   "metadata": {},
   "outputs": [],
   "source": [
    "from scipy.signal import chirp\n",
    "from scipy.signal import sawtooth\n",
    "from scipy.signal import gausspulse\n",
    "\n",
    "DAC_SR = 4.0E9  # Sample rate of DACs and ADCs is 4.0 GHz\n",
    "ADC_SR = 4.0E9\n",
    "Fc = 250.0E6 # Set center frequency of waveform to 250.0 MHz\n",
    "Fe = 800.0E6 # maximum frequency of chirp at end of record\n",
    "DAC_Amplitude = 16383.0 # 14bit DAC +16383/-16384\n",
    "X_axis = (1/DAC_SR) * np.arange(0,ol.dac_player.shape[0])\n",
    "print (ol.dac_player.shape[0])"
   ]
  },
  {
   "cell_type": "code",
   "execution_count": null,
   "id": "ddb191ed-a05c-42ff-ac0a-ce9a4f9dd129",
   "metadata": {
    "tags": []
   },
   "outputs": [],
   "source": [
    "# generate some basic waveforms\n",
    "DAC_sinewave = DAC_Amplitude * np.sin(2*np.pi*Fc*X_axis)\n",
    "DAC_sawtooth = DAC_Amplitude * sawtooth(2 * np.pi * Fc * X_axis)\n",
    "DAC_chirp = DAC_Amplitude * chirp(np.arange(0, ol.dac_player.shape[0])/DAC_SR,\n",
    "                                  f0=Fc, f1=Fe, t1=(ol.dac_player.shape[0]/DAC_SR), \n",
    "                                  phi=0.0, method='linear')\n",
    "gauss_delay = 4096\n",
    "DAC_gauss = DAC_Amplitude * gausspulse (np.arange(-gauss_delay, ol.dac_player.shape[0]-gauss_delay)/DAC_SR, fc = Fc,bw = 0.02)"
   ]
  },
  {
   "cell_type": "code",
   "execution_count": null,
   "id": "da3bb8fa-756e-4984-9393-74cac93dc230",
   "metadata": {},
   "outputs": [],
   "source": [
    "#ol.dac_player[:] = np.int16(DAC_sinewave)\n",
    "#ol.dac_player[:] = np.int16(DAC_sawtooth)\n",
    "#ol.dac_player[:] = np.int16(DAC_chirp)\n",
    "ol.dac_player[:] = np.int16(DAC_gauss)"
   ]
  },
  {
   "cell_type": "markdown",
   "id": "46371e35-b78e-42f6-82c7-7eb1cbded631",
   "metadata": {},
   "source": [
    "---"
   ]
  },
  {
   "cell_type": "markdown",
   "id": "8e87666f-b61b-4711-9976-bca1e7545701",
   "metadata": {},
   "source": [
    "## Capture DAC Waveform to Internal Memory\n",
    "The DAC waveform is saved to an internal memory for verification purposes."
   ]
  },
  {
   "cell_type": "code",
   "execution_count": null,
   "id": "ab6a555e-f1d4-456e-a646-67bf952a4ea5",
   "metadata": {},
   "outputs": [],
   "source": [
    "ol.trigger_capture()\n",
    "pNumSamples =1024*32\n",
    "plt.title('DAC Waveform Replay ')\n",
    "plt.xlabel('sample')         \n",
    "plt.ylabel('Amplitude')\n",
    "plt.plot(ol.dac_capture[0:pNumSamples])\n",
    "plt.show()\n",
    "# Note that the waveform is NOT aligned to sample zero of the DACRAM as it is free-running"
   ]
  },
  {
   "cell_type": "markdown",
   "id": "820a5691-4a70-4e90-9d81-7b8c85aa33e4",
   "metadata": {},
   "source": [
    "---"
   ]
  },
  {
   "cell_type": "markdown",
   "id": "469612f2-0df0-445e-8e4b-74df37067227",
   "metadata": {
    "tags": []
   },
   "source": [
    "# Enable Multi-Tile Synchronization - MTS\n",
    "With Multi-Tile Synchronization enabled the DAC output and ADC samples are aligned.  This feature of the RFSOC allows coherency across DAC and ADC tiles.  The RF tiles are reset and their internal FIFOs reset via \"init_tile_sync\" while also testing if the synthesizer clocks are ready.  Once initialized, the \"sync_tiles\" function begins the synchronization procedure of the tiles. The results are analyzed below."
   ]
  },
  {
   "cell_type": "code",
   "execution_count": null,
   "id": "e6ad75bd-938d-4051-ab2c-1f2c6fb58525",
   "metadata": {},
   "outputs": [],
   "source": [
    "ol.init_tile_sync()\n",
    "ol.verify_clock_tree()"
   ]
  },
  {
   "cell_type": "code",
   "execution_count": null,
   "id": "b0e140ba-3aa9-4fb6-a604-ec2d69840157",
   "metadata": {
    "tags": []
   },
   "outputs": [],
   "source": [
    "ol.sync_tiles()"
   ]
  },
  {
   "cell_type": "markdown",
   "id": "0968d835-f6ba-4b88-9e42-b66706216698",
   "metadata": {},
   "source": [
    "---"
   ]
  },
  {
   "cell_type": "markdown",
   "id": "90f545ea-c675-4b90-a630-dc95e3beb8ae",
   "metadata": {},
   "source": [
    "# Deep Capture to PL DDR4 Memory\n",
    "The ZCU208 has an additional DRAM exclusively for the PL.  Specifically, this overlay stores ADC Tile 225 - channel 1 samples. Our overlay limits a DMA descriptor to a maximum length of 24bit or 16MB."
   ]
  },
  {
   "cell_type": "code",
   "execution_count": null,
   "id": "daeba799-d00d-4fc9-be4a-988d6c27c3df",
   "metadata": {},
   "outputs": [],
   "source": [
    "from pynq import allocate\n",
    "numSamplesPerDMA = (8 << 20)-1 # 8 MSample = 16MB\n",
    "dbuf = allocate(numSamplesPerDMA, dtype=np.int16, target=ol.ddr4_0)\n",
    "assert (dbuf.physical_address == ol.ddr4_0.base_address), \"Buffer was not allocated to the expected PL-DRAM!\""
   ]
  },
  {
   "cell_type": "code",
   "execution_count": null,
   "id": "7c702833-a631-479c-8bd2-be69b6d3fd96",
   "metadata": {},
   "outputs": [],
   "source": [
    "ol.dram_capture(dbuf)"
   ]
  },
  {
   "cell_type": "markdown",
   "id": "2173e5b4-596c-43be-8786-be6a7939f922",
   "metadata": {
    "tags": []
   },
   "source": [
    "## Plot Captured ADC Samples from PL DRAM\n",
    "The DMA interface captures 2MB worth of sample data and saved it into PL DRAM.  Each sample is 2 bytes each (int16) and we have allocated one mega-sample."
   ]
  },
  {
   "cell_type": "code",
   "execution_count": null,
   "id": "8e2f6af7-526d-49e3-82c8-faa3c4fe6d15",
   "metadata": {},
   "outputs": [],
   "source": [
    "pStart = 512 * (1<<10)\n",
    "pNumSamples = 1024*256\n",
    "plt.plot(ol.ADCdeepcapture[pStart:(pStart+pNumSamples)])\n",
    "plt.show()"
   ]
  },
  {
   "cell_type": "code",
   "execution_count": null,
   "id": "78364503-996b-4657-9ac1-e180b495366c",
   "metadata": {},
   "outputs": [],
   "source": [
    "dbuf.freebuffer() # reclaim memory"
   ]
  },
  {
   "cell_type": "markdown",
   "id": "f2b14363-b6ef-4f7e-9ab3-686e1ad4779a",
   "metadata": {
    "tags": []
   },
   "source": [
    "## Verify Waveform Properties Match Expectations\n",
    "\n",
    "If the DAC waveform was a sinewave, verify the captured ADC waveform is sinusoidal.  If a chirp, verify linear frequency ramping of the captured signal or plot the magnitude of the FFT.  Return to earlier cells and try different waveform generation functions and observe the captured ADC samples to the deep memory.  The DMA interface is limited to a maximum of 16MB per descriptor, so it is not feasible to attempt writing the entire DRAM.  One can modify the cells above to target different regions of the DRAM and deposit more sample sets for analysis."
   ]
  },
  {
   "cell_type": "code",
   "execution_count": null,
   "id": "96abdacf-0253-4f16-99e4-4e7625080680",
   "metadata": {},
   "outputs": [],
   "source": [
    "# Make sure our shared folder is on sys.path (do this once per notebook)\n",
    "import sys, os\n",
    "libdir = os.path.expanduser('/home/xilinx/jupyter_notebooks/lib')\n",
    "if libdir not in sys.path:\n",
    "    sys.path.insert(0, libdir)\n",
    "\n",
    "from rfsoc_mts_tdms_export import write_pulses_to_tdms, jupyter_download_link"
   ]
  },
  {
   "cell_type": "code",
   "execution_count": null,
   "id": "619c12cc-be34-4aa6-9dab-ad0caa4e2055",
   "metadata": {},
   "outputs": [],
   "source": [
    "# Replace these with your actual variables from the RFSoC-MTS flow:\n",
    "# dac_wave   -> 1-D array/buffer of your DAC waveform (int16 recommended)\n",
    "# adc_deep   -> 1-D array/buffer with the complete deep capture from PL-DDR\n",
    "# fs_dac_hz  -> DAC sample rate (Hz)\n",
    "# fs_adc_hz  -> ADC sample rate (Hz)\n",
    "\n",
    "pStart = 512 * (1<<10)\n",
    "pNumSamples = 1024*1024\n",
    "\n",
    "tdms_path = write_pulses_to_tdms(\n",
    "    out_wave=np.int16(DAC_gauss),         # or None to omit channel 'out'\n",
    "    in_capture=ol.ADCdeepcapture[pStart:(pStart+pNumSamples)],       # required\n",
    "    fs_out_hz=ADC_SR,\n",
    "    fs_in_hz=DAC_SR,\n",
    "    filename=\"pulses_capture.tdms\",\n",
    "    out_dtype=\"int16\",\n",
    "    in_dtype=\"int16\",\n",
    "    group_name=\"p\",\n",
    "    out_channel=\"out\",\n",
    "    in_channel=\"in\",\n",
    "    # properties={\"board\":\"ZCU208\",\"notes\":\"Gaussian pulses once per buffer\"},\n",
    ")\n"
   ]
  },
  {
   "cell_type": "code",
   "execution_count": null,
   "id": "8b9c0138-f0ce-43c7-a817-234a24811c3a",
   "metadata": {
    "tags": []
   },
   "outputs": [],
   "source": [
    "# Show a save dialog in the browser\n",
    "jupyter_download_link(tdms_path)"
   ]
  },
  {
   "cell_type": "code",
   "execution_count": null,
   "id": "27e60c45-c62d-4fda-a082-435f1af14300",
   "metadata": {},
   "outputs": [],
   "source": []
  },
  {
   "cell_type": "code",
   "execution_count": null,
   "id": "78dccd12-46f7-4efb-88ab-fb11d797149d",
   "metadata": {},
   "outputs": [],
   "source": []
  },
  {
   "cell_type": "code",
   "execution_count": null,
   "id": "24d2faaa-6559-4fc4-b09a-5b18ab5e15db",
   "metadata": {},
   "outputs": [],
   "source": []
  },
  {
   "cell_type": "code",
   "execution_count": null,
   "id": "28416770-1c3a-46c0-bce1-4b8abc6cd993",
   "metadata": {},
   "outputs": [],
   "source": []
  },
  {
   "cell_type": "code",
   "execution_count": null,
   "id": "4648cf95-9a5c-4336-938b-49f9d92161c0",
   "metadata": {},
   "outputs": [],
   "source": []
  },
  {
   "cell_type": "code",
   "execution_count": null,
   "id": "b92cc0fa-9706-451f-b306-768df4adcece",
   "metadata": {},
   "outputs": [],
   "source": []
  }
 ],
 "metadata": {
  "kernelspec": {
   "display_name": "Python 3 (ipykernel)",
   "language": "python",
   "name": "python3"
  },
  "language_info": {
   "codemirror_mode": {
    "name": "ipython",
    "version": 3
   },
   "file_extension": ".py",
   "mimetype": "text/x-python",
   "name": "python",
   "nbconvert_exporter": "python",
   "pygments_lexer": "ipython3",
   "version": "3.10.4"
  }
 },
 "nbformat": 4,
 "nbformat_minor": 5
}
